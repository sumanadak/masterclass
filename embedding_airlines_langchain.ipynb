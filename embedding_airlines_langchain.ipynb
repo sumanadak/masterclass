{
 "cells": [
  {
   "cell_type": "code",
   "execution_count": 6,
   "metadata": {},
   "outputs": [],
   "source": [
    "from dotenv import load_dotenv\n",
    "import os\n",
    "\n",
    "load_dotenv()\n",
    "api_key = os.getenv(\"api_key\")\n",
    "os.environ[\"COHERE_API_KEY\"] = api_key"
   ]
  },
  {
   "cell_type": "code",
   "execution_count": 7,
   "metadata": {},
   "outputs": [],
   "source": [
    "from langchain_cohere import CohereEmbeddings\n",
    "\n",
    "embeddings = CohereEmbeddings(\n",
    "    model=\"embed-english-v3.0\",\n",
    ")"
   ]
  },
  {
   "cell_type": "code",
   "execution_count": 8,
   "metadata": {},
   "outputs": [
    {
     "data": {
      "text/html": [
       "<div>\n",
       "<style scoped>\n",
       "    .dataframe tbody tr th:only-of-type {\n",
       "        vertical-align: middle;\n",
       "    }\n",
       "\n",
       "    .dataframe tbody tr th {\n",
       "        vertical-align: top;\n",
       "    }\n",
       "\n",
       "    .dataframe thead th {\n",
       "        text-align: right;\n",
       "    }\n",
       "</style>\n",
       "<table border=\"1\" class=\"dataframe\">\n",
       "  <thead>\n",
       "    <tr style=\"text-align: right;\">\n",
       "      <th></th>\n",
       "      <th>query</th>\n",
       "    </tr>\n",
       "  </thead>\n",
       "  <tbody>\n",
       "    <tr>\n",
       "      <th>0</th>\n",
       "      <td>which airlines fly from boston to washington ...</td>\n",
       "    </tr>\n",
       "    <tr>\n",
       "      <th>1</th>\n",
       "      <td>show me the airlines that fly between toronto...</td>\n",
       "    </tr>\n",
       "    <tr>\n",
       "      <th>2</th>\n",
       "      <td>show me round trip first class tickets from n...</td>\n",
       "    </tr>\n",
       "    <tr>\n",
       "      <th>3</th>\n",
       "      <td>i'd like the lowest fare from denver to pitts...</td>\n",
       "    </tr>\n",
       "    <tr>\n",
       "      <th>4</th>\n",
       "      <td>show me a list of ground transportation at bo...</td>\n",
       "    </tr>\n",
       "    <tr>\n",
       "      <th>...</th>\n",
       "      <td>...</td>\n",
       "    </tr>\n",
       "    <tr>\n",
       "      <th>86</th>\n",
       "      <td>what ground transportation is there in atlanta</td>\n",
       "    </tr>\n",
       "    <tr>\n",
       "      <th>87</th>\n",
       "      <td>can i take a single airline from la to charlo...</td>\n",
       "    </tr>\n",
       "    <tr>\n",
       "      <th>88</th>\n",
       "      <td>what is the cost for a one way trip from pitt...</td>\n",
       "    </tr>\n",
       "    <tr>\n",
       "      <th>89</th>\n",
       "      <td>what ground transportation is available in ba...</td>\n",
       "    </tr>\n",
       "    <tr>\n",
       "      <th>90</th>\n",
       "      <td>give me the round trip coach fare from baltim...</td>\n",
       "    </tr>\n",
       "  </tbody>\n",
       "</table>\n",
       "<p>91 rows × 1 columns</p>\n",
       "</div>"
      ],
      "text/plain": [
       "                                                query\n",
       "0    which airlines fly from boston to washington ...\n",
       "1    show me the airlines that fly between toronto...\n",
       "2    show me round trip first class tickets from n...\n",
       "3    i'd like the lowest fare from denver to pitts...\n",
       "4    show me a list of ground transportation at bo...\n",
       "..                                                ...\n",
       "86     what ground transportation is there in atlanta\n",
       "87   can i take a single airline from la to charlo...\n",
       "88   what is the cost for a one way trip from pitt...\n",
       "89   what ground transportation is available in ba...\n",
       "90   give me the round trip coach fare from baltim...\n",
       "\n",
       "[91 rows x 1 columns]"
      ]
     },
     "metadata": {},
     "output_type": "display_data"
    }
   ],
   "source": [
    "import  pandas as pd\n",
    "\n",
    "# Load the dataset to a dataframe\n",
    "#pd.set_option('display.max_colwidth', None)\n",
    "df_orig = pd.read_csv('https://raw.githubusercontent.com/cohere-ai/notebooks/main/notebooks/data/atis_intents_train.csv',names=('intent','query'))\n",
    "#display(df_orig)\n",
    "sample_classes = ['atis_airfare', 'atis_airline', 'atis_ground_service']\n",
    "df = df_orig.sample(frac=0.1, random_state=30)\n",
    "df = df[df.intent.isin(sample_classes)]\n",
    "df_orig = df_orig.drop(df.index)\n",
    "df.reset_index(drop=True,inplace=True)\n",
    "\n",
    "# Remove unnecessary column \n",
    "intents = df['intent'] #save for a later need\n",
    "df.drop(columns=['intent'], inplace=True)\n",
    "display(df)\n"
   ]
  },
  {
   "cell_type": "code",
   "execution_count": 12,
   "metadata": {},
   "outputs": [
    {
     "name": "stdout",
     "output_type": "stream",
     "text": [
      " is there ground transportation in boston from the airport\n",
      " show me a list of ground transportation at boston airport\n",
      " does the phoenix airport have ground transportation to and from downtown\n",
      " show me the airlines\n"
     ]
    }
   ],
   "source": [
    "from langchain_core.vectorstores import InMemoryVectorStore\n",
    "documents = df['query'].tolist()\n",
    "vectorstore = InMemoryVectorStore.from_texts(\n",
    "    documents,\n",
    "    embedding=embeddings,\n",
    ")\n",
    "# Use the vectorstore as a retriever\n",
    "retriever = vectorstore.as_retriever()\n",
    "# Retrieve the most similar text\n",
    "retrieved_documents = retriever.invoke(\"How can I find a taxi or a bus when the plane lands?\")\n",
    "\n",
    "# show the retrieved document's content\n",
    "for document in retrieved_documents:\n",
    "    # Print the content of each document\n",
    "    print(document.page_content)"
   ]
  }
 ],
 "metadata": {
  "kernelspec": {
   "display_name": "Python 3",
   "language": "python",
   "name": "python3"
  },
  "language_info": {
   "codemirror_mode": {
    "name": "ipython",
    "version": 3
   },
   "file_extension": ".py",
   "mimetype": "text/x-python",
   "name": "python",
   "nbconvert_exporter": "python",
   "pygments_lexer": "ipython3",
   "version": "3.12.1"
  }
 },
 "nbformat": 4,
 "nbformat_minor": 2
}
